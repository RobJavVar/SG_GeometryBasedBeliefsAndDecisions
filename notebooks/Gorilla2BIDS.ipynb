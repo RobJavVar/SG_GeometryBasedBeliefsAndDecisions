{
  "nbformat": 4,
  "nbformat_minor": 0,
  "metadata": {
    "colab": {
      "provenance": [],
      "include_colab_link": true
    },
    "kernelspec": {
      "name": "python3",
      "display_name": "Python 3"
    },
    "language_info": {
      "name": "python"
    }
  },
  "cells": [
    {
      "cell_type": "markdown",
      "metadata": {
        "id": "view-in-github",
        "colab_type": "text"
      },
      "source": [
        "<a href=\"https://colab.research.google.com/github/ExCaLBBR/ExCaLBBR_Projects/blob/main/GeometryBasedDecisions/code/Gorilla2BIDS.ipynb\" target=\"_parent\"><img src=\"https://colab.research.google.com/assets/colab-badge.svg\" alt=\"Open In Colab\"/></a>"
      ]
    },
    {
      "cell_type": "markdown",
      "source": [
        "Gorilla Info: <br>\n",
        "Project: GeometryBasedDecisions <br>\n",
        "Account: Roberto Vargas (robertov@andrew.cmu.edu)"
      ],
      "metadata": {
        "id": "C9mud3ByqVgH"
      }
    },
    {
      "cell_type": "code",
      "source": [
        "#@title Install Dependancies\n",
        "import pandas as pd\n",
        "import numpy as np\n",
        "import re"
      ],
      "metadata": {
        "id": "08gBma2_ivoE",
        "cellView": "form"
      },
      "execution_count": 1,
      "outputs": []
    },
    {
      "cell_type": "code",
      "source": [
        "#@title Utility Functions\n",
        "\n",
        "def convert_to_float(x):\n",
        "    if isinstance(x, list):\n",
        "        return float(x[0]) # assuming there is only one value in the list\n",
        "    else:\n",
        "        return x"
      ],
      "metadata": {
        "id": "3dArzVdYA-mz",
        "cellView": "form"
      },
      "execution_count": 2,
      "outputs": []
    },
    {
      "cell_type": "code",
      "source": [
        "#@title Load Data\n",
        "\n",
        "#QUESTIONAIRRES:\n",
        "#Demographics\n",
        "url = 'https://raw.githubusercontent.com/ExCaLBBR/ExCaLBBR_Projects/refs/heads/main/GeometryBasedDecisions/data/raw/raw_demographic.csv'\n",
        "df_demographic = pd.read_csv(url)\n",
        "\n",
        "#News Consumption\n",
        "url = 'https://raw.githubusercontent.com/ExCaLBBR/ExCaLBBR_Projects/refs/heads/main/GeometryBasedDecisions/data/raw/raw_questionnaire_NewsConsumption.csv'\n",
        "df_News = pd.read_csv(url)\n",
        "\n",
        "#Concept Engagement Pt1\n",
        "url = 'https://github.com/ExCaLBBR/ExCaLBBR_Projects/raw/refs/heads/main/GeometryBasedDecisions/data/raw/raw_task_SocConEngagePt1.csv'\n",
        "df_ConEngPt1 = pd.read_csv(url)\n",
        "\n",
        "#Concept Engagement Pt23\n",
        "url = 'https://github.com/ExCaLBBR/ExCaLBBR_Projects/raw/refs/heads/main/GeometryBasedDecisions/data/raw/raw_questionnaire_SocConEngagePt23.csv'\n",
        "df_ConEngPt23 = pd.read_csv(url)\n",
        "\n",
        "#PurposeQ\n",
        "url = 'https://raw.githubusercontent.com/ExCaLBBR/ExCaLBBR_Projects/refs/heads/main/GeometryBasedDecisions/data/raw/raw_questionnaire_PurposeQ.csv'\n",
        "df_PurposeQ = pd.read_csv(url)\n",
        "\n",
        "#TASKS:\n",
        "#PRaM\n",
        "url = 'https://github.com/ExCaLBBR/ExCaLBBR_Projects/raw/refs/heads/main/GeometryBasedDecisions/data/raw/raw_task_PRaM.csv.gz'\n",
        "df_taskPRaM = pd.read_csv(url, compression='gzip')\n"
      ],
      "metadata": {
        "colab": {
          "base_uri": "https://localhost:8080/"
        },
        "id": "NA7mXjvZZldd",
        "outputId": "40bd8f66-7469-470b-d96f-585c6df18d26",
        "cellView": "form"
      },
      "execution_count": 3,
      "outputs": [
        {
          "output_type": "stream",
          "name": "stderr",
          "text": [
            "<ipython-input-3-8429c8b7a8a7>:6: DtypeWarning: Columns (0) have mixed types. Specify dtype option on import or set low_memory=False.\n",
            "  df_demographic = pd.read_csv(url)\n",
            "<ipython-input-3-8429c8b7a8a7>:14: DtypeWarning: Columns (0) have mixed types. Specify dtype option on import or set low_memory=False.\n",
            "  df_ConEngPt1 = pd.read_csv(url)\n",
            "<ipython-input-3-8429c8b7a8a7>:27: DtypeWarning: Columns (0,36,39) have mixed types. Specify dtype option on import or set low_memory=False.\n",
            "  df_taskPRaM = pd.read_csv(url, compression='gzip')\n"
          ]
        }
      ]
    },
    {
      "cell_type": "code",
      "source": [
        "#@title Variable column isolation\n",
        "#Isolate relevant columns: Demographics\n",
        "include = ['Participant Private ID', 'Question', 'Key', 'Response']\n",
        "df_demographic.drop(columns=df_demographic.columns.difference(include), inplace=True)\n",
        "mask = df_demographic['Response'].str.contains('BEGIN', na=True) | df_demographic['Response'].str.contains('END', na=True)\n",
        "df_demographic = df_demographic[~mask]\n",
        "\n",
        "#Isolate relevant columns: News Consumption\n",
        "include = ['Participant Private ID', 'Question', 'Key', 'Response']\n",
        "df_News.drop(columns=df_News.columns.difference(include), inplace=True)\n",
        "mask = df_News['Response'].str.contains('BEGIN', na=True) | df_News['Response'].str.contains('END', na=True)\n",
        "df_News = df_News[~mask]\n",
        "\n",
        "#Isolate relevant columns: Concept Engagement Pt1\n",
        "include = ['Participant Private ID', 'Spreadsheet: display', 'Object Name', 'Spreadsheet: Instituion', 'Spreadsheet: Question']\n",
        "df_ConEngPt1.drop(columns=df_ConEngPt1.columns.difference(include), inplace=True)\n",
        "mask = df_ConEngPt1['Spreadsheet: display'].str.contains('Trial', na=True)\n",
        "df_ConEngPt1 = df_ConEngPt1[mask]\n",
        "df_ConEngPt1 = df_ConEngPt1.dropna()\n",
        "\n",
        "#Isolate relevant columns: Concept Engagement Pt23\n",
        "include = ['Participant Private ID', 'Key', 'Response', 'Object ID']\n",
        "df_ConEngPt23.drop(columns=df_ConEngPt23.columns.difference(include), inplace=True)\n",
        "mask = df_ConEngPt23['Key'].str.contains('value', na=True)\n",
        "df_ConEngPt23 = df_ConEngPt23[mask]\n",
        "df_ConEngPt23 = df_ConEngPt23.dropna()\n",
        "\n",
        "#Isolate relevant columns: PurposeQ\n",
        "include = ['Participant Private ID', 'Question Key', 'Response']\n",
        "df_PurposeQ.drop(columns=df_PurposeQ.columns.difference(include), inplace=True)\n",
        "mask = df_PurposeQ['Question Key'].str.contains('BEGIN QUESTIONNAIRE', na=True) | df_PurposeQ['Question Key'].str.contains('END QUESTIONNAIRE', na=True) | df_PurposeQ['Question Key'].str.contains('OpenEnded', na=True)\n",
        "df_PurposeQ = df_PurposeQ[~mask]\n",
        "\n",
        "#Isolate relevant columns: PRaM\n",
        "include = ['Participant Private ID', 'Zone Name', 'conceptA', 'conceptB', 'Response']\n",
        "df_taskPRaM.drop(columns=df_taskPRaM.columns.difference(include), inplace=True)\n",
        "mask = df_taskPRaM['Zone Name'].str.contains('Likert', na=True)\n",
        "df_taskPRaM = df_taskPRaM[mask]\n",
        "df_taskPRaM = df_taskPRaM.dropna()\n",
        "df_taskPRaM.drop(columns=['Zone Name'], inplace=True)\n",
        "df_taskPRaM['Pair'] = df_taskPRaM['conceptA'] + '-' + df_taskPRaM['conceptB']\n",
        "df_taskPRaM.drop(columns=['conceptA', 'conceptB'], inplace=True)\n"
      ],
      "metadata": {
        "id": "6LwvqmKec1MJ"
      },
      "execution_count": 4,
      "outputs": []
    },
    {
      "cell_type": "code",
      "source": [
        "#@title Convert to Pivot tables\n",
        "#Isolate Pivot dataframes\n",
        "df_demographic = df_demographic.pivot(index = 'Participant Private ID', columns = ['Question', 'Key'], values = ['Response']) #Demographics\n",
        "\n",
        "df_News = df_News.pivot(index = 'Participant Private ID', columns = ['Question', 'Key'], values = ['Response']) #News Consumption\n",
        "\n",
        "df_ConEngPt1 = df_ConEngPt1.pivot(index = 'Participant Private ID', columns = ['Spreadsheet: Instituion', 'Spreadsheet: Question'], values = ['Object Name'])\n",
        "\n",
        "df_ConEngPt23 = df_ConEngPt23.pivot(index = 'Participant Private ID', columns = ['Object ID'], values = ['Response'])\n",
        "\n",
        "df_PurposeQ = df_PurposeQ.pivot(index = 'Participant Private ID', columns = ['Question Key'], values = ['Response'])\n",
        "\n",
        "#TASKS:\n",
        "df_taskPRaM = df_taskPRaM.groupby(['Participant Private ID', 'Pair'])['Response'].agg(list).reset_index()\n",
        "df_taskPRaM = df_taskPRaM.pivot(index='Participant Private ID', columns='Pair', values='Response')\n",
        "df_taskPRaM = df_taskPRaM.applymap(convert_to_float)\n"
      ],
      "metadata": {
        "id": "8dzVwNOoDY5V",
        "colab": {
          "base_uri": "https://localhost:8080/"
        },
        "outputId": "37e3988e-6c16-4895-d562-d5934aff662a"
      },
      "execution_count": 5,
      "outputs": [
        {
          "output_type": "stream",
          "name": "stderr",
          "text": [
            "<ipython-input-5-ab824a15709e>:16: FutureWarning: DataFrame.applymap has been deprecated. Use DataFrame.map instead.\n",
            "  df_taskPRaM = df_taskPRaM.applymap(convert_to_float)\n"
          ]
        }
      ]
    },
    {
      "cell_type": "code",
      "source": [
        "#Convert all files to csv\n",
        "df_demographic.to_csv('df_demographic.csv')\n",
        "df_News.to_csv('df_News.csv')\n",
        "df_ConEngPt1.to_csv('df_ConEngPt1.csv')\n",
        "df_ConEngPt23.to_csv('df_ConEngPt23.csv')\n",
        "df_PurposeQ.to_csv('df_PurposeQ.csv')\n",
        "df_taskPRaM.to_csv('df_taskPRaM.csv')"
      ],
      "metadata": {
        "id": "GHGoq3mGSf5Q"
      },
      "execution_count": 6,
      "outputs": []
    },
    {
      "cell_type": "code",
      "source": [
        "#Offline Processing is as follows:\n",
        "\n",
        "#Remove nested columns\n",
        "#Rename column headers to be more intuitive\n",
        "#News: Added AllSides coding (10/23)"
      ],
      "metadata": {
        "id": "2aeCX-t44XIa"
      },
      "execution_count": null,
      "outputs": []
    }
  ]
}